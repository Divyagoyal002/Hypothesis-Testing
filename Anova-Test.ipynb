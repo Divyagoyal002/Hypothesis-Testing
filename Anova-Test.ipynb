{
 "cells": [
  {
   "cell_type": "markdown",
   "id": "60dc0eb1",
   "metadata": {},
   "source": [
    "**Suppose there a four machines M1, M2, M3, and M4 in a factory that are used to produce a certain kind of cotton fabric\n",
    "Samples of size 4 with each unit having 100sq. meters are selected from the output of the machine randomly, and the number of flaws in every 100 sq. meters are counted and listed below.<br/>\n",
    "M1=[8,9,11,12] <br/>\n",
    "M2=[6,8,10,4] <br/>\n",
    "M3=[14,12,18,9] <br/>\n",
    "M4=[20,22,25,23] <br/>\n",
    "Do you think there is a significant difference in the performance of the four machines?\n",
    "Note: Round off the answer to two decimal places**"
   ]
  },
  {
   "cell_type": "code",
   "execution_count": 2,
   "id": "6cc1df0a",
   "metadata": {},
   "outputs": [
    {
     "name": "stdout",
     "output_type": "stream",
     "text": [
      "Null hypothesis (H0) is rejected for Machine M1.\n",
      "Null hypothesis (H0) is rejected for Machine M2.\n"
     ]
    }
   ],
   "source": [
    "import scipy.stats as stats\n",
    "\n",
    "M1=[8,9,11,12]\n",
    "M2=[6,8,10,4]\n",
    "M3=[14,12,18,9]\n",
    "M4=[20,22,25,23]\n",
    "\n",
    "# Hypothesis test results\n",
    "t_s1 = 25.22\n",
    "t_s2 = 28.53\n",
    "\n",
    "# Significance level\n",
    "a = 0.05\n",
    "\n",
    "# Perform hypothesis test\n",
    "p1 = 1 - stats.norm.cdf(t_s1)\n",
    "p2 = 1 - stats.norm.cdf(t_s2)\n",
    "\n",
    "# Check if null hypothesis is rejected\n",
    "if p1 < a:\n",
    "    print(\"Null hypothesis (H0) is rejected for Machine M1.\")\n",
    "else:\n",
    "    print(\"Null hypothesis (H0) fails to be rejected for Machine M1.\")\n",
    "\n",
    "if p2 < a:\n",
    "    print(\"Null hypothesis (H0) is rejected for Machine M2.\")\n",
    "else:\n",
    "    print(\"Null hypothesis (H0) fails to be rejected for Machine M2.\")\n"
   ]
  },
  {
   "cell_type": "code",
   "execution_count": 6,
   "id": "0be6ac22",
   "metadata": {},
   "outputs": [
    {
     "name": "stdout",
     "output_type": "stream",
     "text": [
      "Null hypothesis (H0) is rejected. There are significant differences in the number of flaws among the machines.\n"
     ]
    }
   ],
   "source": [
    "import scipy.stats as stats\n",
    "\n",
    "# Data for each machine\n",
    "M1 = [8, 9, 11, 12]\n",
    "M2 = [6, 8, 10, 4]\n",
    "M3 = [14, 12, 18, 9]\n",
    "M4 = [20, 22, 25, 23]\n",
    "\n",
    "# Perform one-way ANOVA test\n",
    "_, p= stats.f_oneway(M1, M2, M3, M4)\n",
    "\n",
    "# Significance level\n",
    "alpha = 0.05\n",
    "\n",
    "# Check if null hypothesis is rejected\n",
    "if p < a:\n",
    "    print(\"Null hypothesis (H0) is rejected. There are significant differences in the number of flaws among the machines.\")\n",
    "else:\n",
    "    print(\"Null hypothesis (H0) fails to be rejected. There is no significant difference in the number of flaws among the machines.\")\n"
   ]
  },
  {
   "cell_type": "code",
   "execution_count": 7,
   "id": "bb805ce3",
   "metadata": {},
   "outputs": [
    {
     "name": "stdout",
     "output_type": "stream",
     "text": [
      "Null hypothesis (H0) is rejected. There are significant differences in the number of flaws among the machines.\n"
     ]
    }
   ],
   "source": [
    "import scipy.stats as stats\n",
    "\n",
    "# Data for each machine\n",
    "M1 = [8, 9, 11, 12]\n",
    "M2 = [6, 8, 10, 4]\n",
    "M3 = [14, 12, 18, 9]\n",
    "M4 = [20, 22, 25, 23]\n",
    "\n",
    "# Perform one-way ANOVA test\n",
    "f_value, p_value = stats.f_oneway(M1, M2, M3, M4)\n",
    "\n",
    "# Significance level\n",
    "alpha = 0.05\n",
    "\n",
    "# Degrees of freedom\n",
    "num_groups = len([M1, M2, M3, M4])\n",
    "num_samples = len(M1) + len(M2) + len(M3) + len(M4)\n",
    "df_between = num_groups - 1\n",
    "df_within = num_samples - num_groups\n",
    "\n",
    "# Critical F-value\n",
    "critical_f = stats.f.ppf(1 - alpha, df_between, df_within)\n",
    "\n",
    "# Check if null hypothesis is rejected\n",
    "if f_value > critical_f:\n",
    "    print(\"Null hypothesis (H0) is rejected. There are significant differences in the number of flaws among the machines.\")\n",
    "else:\n",
    "    print(\"Null hypothesis (H0) fails to be rejected. There is no significant difference in the number of flaws among the machines.\")\n"
   ]
  },
  {
   "cell_type": "code",
   "execution_count": null,
   "id": "e8f469af",
   "metadata": {},
   "outputs": [],
   "source": []
  }
 ],
 "metadata": {
  "kernelspec": {
   "display_name": "Python 3 (ipykernel)",
   "language": "python",
   "name": "python3"
  },
  "language_info": {
   "codemirror_mode": {
    "name": "ipython",
    "version": 3
   },
   "file_extension": ".py",
   "mimetype": "text/x-python",
   "name": "python",
   "nbconvert_exporter": "python",
   "pygments_lexer": "ipython3",
   "version": "3.9.7"
  }
 },
 "nbformat": 4,
 "nbformat_minor": 5
}
