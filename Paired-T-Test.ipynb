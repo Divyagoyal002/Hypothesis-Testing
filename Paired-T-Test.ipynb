{
 "cells": [
  {
   "cell_type": "markdown",
   "id": "41307ef7",
   "metadata": {},
   "source": [
    "**You are appointed as a Data Analyst for a training program deployed by the Government of India. The participants’ skills were tested before and after the training using some metrics on a scale of 10.\n",
    "before = [2.45, 0.69, 1.80, 2.80, 0.07, 1.67, 2.93, 0.47, 1.45, 1.34]\n",
    "after = [7.71, 2.17, 5.65, 8.79, 0.23, 5.23, 9.19, 1.49, 4.56, 4.20]\n",
    "Conduct paired t-test and answer the below questions accordingly.\n",
    "Note: Perform the paired t-test at alpha =5%**"
   ]
  },
  {
   "cell_type": "code",
   "execution_count": 2,
   "id": "4b0d6bda",
   "metadata": {},
   "outputs": [
    {
     "name": "stdout",
     "output_type": "stream",
     "text": [
      "Mean difference: 3.3549999999999995\n",
      "Standard deviation of differences: 2.075766257447007\n",
      "T-statistic: 5.111096450191606\n",
      "Critical t-value: 2.2621571627409915\n",
      "P-value: 0.0006355623963896455\n",
      "Reject the null hypothesis. There is a significant difference between participants' skills before and after the training.\n"
     ]
    }
   ],
   "source": [
    "import numpy as np\n",
    "from scipy import stats\n",
    "\n",
    "# Given data\n",
    "before = [2.45, 0.69, 1.80, 2.80, 0.07, 1.67, 2.93, 0.47, 1.45, 1.34]\n",
    "after = [7.71, 2.17, 5.65, 8.79, 0.23, 5.23, 9.19, 1.49, 4.56, 4.20]\n",
    "\n",
    "# Step 2: Calculate the differences\n",
    "differences = np.array(after) - np.array(before)\n",
    "\n",
    "# Step 3: Calculate the sample mean and standard deviation of the differences\n",
    "mean_diff = np.mean(differences)\n",
    "std_diff = np.std(differences, ddof=1)  # Using Bessel's correction (ddof=1) for unbiased estimate\n",
    "\n",
    "# Step 4: Calculate the t-statistic\n",
    "n = len(differences)\n",
    "t_statistic = mean_diff / (std_diff / np.sqrt(n))\n",
    "\n",
    "# Step 5: Find the critical t-value for alpha = 0.05 (two-tailed test)\n",
    "alpha = 0.05\n",
    "critical_t = stats.t.ppf(1 - alpha / 2, df=n - 1)\n",
    "\n",
    "# Step 6: Compare the calculated t-statistic with the critical t-value to make a decision\n",
    "p_value = stats.t.sf(np.abs(t_statistic), df=n - 1) * 2\n",
    "\n",
    "# Print the results\n",
    "print(\"Mean difference:\", mean_diff)\n",
    "print(\"Standard deviation of differences:\", std_diff)\n",
    "print(\"T-statistic:\", t_statistic)\n",
    "print(\"Critical t-value:\", critical_t)\n",
    "print(\"P-value:\", p_value)\n",
    "\n",
    "# Interpret the results\n",
    "if p_value < alpha:\n",
    "    print(\"Reject the null hypothesis. There is a significant difference between participants' skills before and after the training.\")\n",
    "else:\n",
    "    print(\"Fail to reject the null hypothesis. There is no significant difference between participants' skills before and after the training.\")\n"
   ]
  },
  {
   "cell_type": "code",
   "execution_count": null,
   "id": "31207f4a",
   "metadata": {},
   "outputs": [],
   "source": []
  }
 ],
 "metadata": {
  "kernelspec": {
   "display_name": "Python 3 (ipykernel)",
   "language": "python",
   "name": "python3"
  },
  "language_info": {
   "codemirror_mode": {
    "name": "ipython",
    "version": 3
   },
   "file_extension": ".py",
   "mimetype": "text/x-python",
   "name": "python",
   "nbconvert_exporter": "python",
   "pygments_lexer": "ipython3",
   "version": "3.9.7"
  }
 },
 "nbformat": 4,
 "nbformat_minor": 5
}
