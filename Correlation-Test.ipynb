{
 "cells": [
  {
   "cell_type": "code",
   "execution_count": 8,
   "id": "2aed119a",
   "metadata": {},
   "outputs": [
    {
     "name": "stdout",
     "output_type": "stream",
     "text": [
      "Null hypothesis (H0) fails to be rejected.\n",
      "There is no significant evidence to support the claim that the new dance routine helps to reduce more weight.\n",
      "Confidence Interval: (68.31655127535136, 80.80844872464864)\n",
      "Test Statistic: 1.1421853793555032\n"
     ]
    }
   ],
   "source": [
    "import numpy as np\n",
    "import scipy.stats as stats\n",
    "\n",
    "# Weight data\n",
    "wt_before = [85, 74, 63.5, 69.4, 71.6, 65, 90, 78]\n",
    "wt_after = [82, 71, 64, 65.2, 67.8, 64.7, 95, 77]\n",
    "\n",
    "# Calculate differences\n",
    "differences = np.array(wt_before) - np.array(wt_after)\n",
    "\n",
    "# Perform paired t-test\n",
    "t_statistic, p_value = stats.ttest_rel(wt_before, wt_after)\n",
    "\n",
    "# Calculate test statistic\n",
    "mean_diff = np.mean(differences)\n",
    "std_diff = np.std(differences, ddof=1)\n",
    "n = len(differences)\n",
    "t_test_statistic = mean_diff / (std_diff / np.sqrt(n))\n",
    "\n",
    "# Significance level and confidence level\n",
    "alpha = 0.10\n",
    "confidence_level = 1 - alpha\n",
    "\n",
    "# Check if null hypothesis is rejected\n",
    "if p_value < alpha:\n",
    "    print(\"Null hypothesis (H0) is rejected.\\n There is significant evidence to support the claim that the new dance routine helps to reduce more weight.\")\n",
    "else:\n",
    "    print(\"Null hypothesis (H0) fails to be rejected.\\nThere is no significant evidence to support the claim that the new dance routine helps to reduce more weight.\")\n",
    "\n",
    "# Confidence interval\n",
    "confidence_interval = stats.t.interval(confidence_level, n-1, loc=np.mean(wt_before), scale=stats.sem(wt_before))\n",
    "print(\"Confidence Interval:\", confidence_interval)\n",
    "\n",
    "# Test statistic\n",
    "print(\"Test Statistic:\", t_test_statistic)\n"
   ]
  },
  {
   "cell_type": "code",
   "execution_count": null,
   "id": "a7e1c197",
   "metadata": {},
   "outputs": [],
   "source": []
  }
 ],
 "metadata": {
  "kernelspec": {
   "display_name": "Python 3 (ipykernel)",
   "language": "python",
   "name": "python3"
  },
  "language_info": {
   "codemirror_mode": {
    "name": "ipython",
    "version": 3
   },
   "file_extension": ".py",
   "mimetype": "text/x-python",
   "name": "python",
   "nbconvert_exporter": "python",
   "pygments_lexer": "ipython3",
   "version": "3.9.7"
  }
 },
 "nbformat": 4,
 "nbformat_minor": 5
}
